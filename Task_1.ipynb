{
  "nbformat": 4,
  "nbformat_minor": 0,
  "metadata": {
    "colab": {
      "provenance": [],
      "authorship_tag": "ABX9TyP5gxHxQpUsC7ZD5ro2kFPz",
      "include_colab_link": true
    },
    "kernelspec": {
      "name": "python3",
      "display_name": "Python 3"
    },
    "language_info": {
      "name": "python"
    }
  },
  "cells": [
    {
      "cell_type": "markdown",
      "metadata": {
        "id": "view-in-github",
        "colab_type": "text"
      },
      "source": [
        "<a href=\"https://colab.research.google.com/github/kavya-prabahar/MainFlow/blob/main/Task_1.ipynb\" target=\"_parent\"><img src=\"https://colab.research.google.com/assets/colab-badge.svg\" alt=\"Open In Colab\"/></a>"
      ]
    },
    {
      "cell_type": "markdown",
      "source": [
        "**Performing basic operations in a list**"
      ],
      "metadata": {
        "id": "XhO5O1p3gs71"
      }
    },
    {
      "cell_type": "code",
      "execution_count": 1,
      "metadata": {
        "colab": {
          "base_uri": "https://localhost:8080/"
        },
        "id": "8oT57yQIaB-O",
        "outputId": "cb8f3c10-6914-446d-c46b-9e89f26154f2"
      },
      "outputs": [
        {
          "output_type": "stream",
          "name": "stdout",
          "text": [
            "[1, 2, 3, 4, 5]\n"
          ]
        }
      ],
      "source": [
        "list_1 = []\n",
        "\n",
        "#adding more than one element to the list\n",
        "\n",
        "list_1.extend([1,2,3,4,5])\n",
        "print(list_1)"
      ]
    },
    {
      "cell_type": "code",
      "source": [
        "#adding a single element to the list\n",
        "\n",
        "list_1.append(6)\n",
        "print(\"After adding the element 6 to the list: \",list_1)\n",
        "\n",
        "#adding an element at a specific index\n",
        "\n",
        "list_1.insert(3,11)\n",
        "print(\"After adding the element 11 at index 3: \",list_1)\n",
        "\n",
        "#concatenating a new list with the existing list\n",
        "\n",
        "new_list = [7,8,9]\n",
        "list_1 = list_1 + new_list\n",
        "print(\"After concatenating the new list with the existing list: \",list_1)\n"
      ],
      "metadata": {
        "colab": {
          "base_uri": "https://localhost:8080/"
        },
        "id": "qqU6GTMdau7i",
        "outputId": "8c94351b-0b07-4995-84aa-530b3a91b4e6"
      },
      "execution_count": 2,
      "outputs": [
        {
          "output_type": "stream",
          "name": "stdout",
          "text": [
            "After adding the element 6 to the list:  [1, 2, 3, 4, 5, 6]\n",
            "After adding the element 11 at index 3:  [1, 2, 3, 11, 4, 5, 6]\n",
            "After concatenating the new list with the existing list:  [1, 2, 3, 11, 4, 5, 6, 7, 8, 9]\n"
          ]
        }
      ]
    },
    {
      "cell_type": "code",
      "source": [
        "#removing a specific element from the list\n",
        "\n",
        "list_1.remove(6)\n",
        "print(\"After removing the element 6 from the list: \",list_1)\n",
        "\n",
        "#removing an element at a particular index\n",
        "\n",
        "popped_element = list_1.pop(4)\n",
        "\n",
        "print(\"Popped element: \",popped_element)\n",
        "print(\"After removing the element at the index 4: \",list_1)\n",
        "\n",
        "#removing the element using del operator\n",
        "\n",
        "del list_1[2]\n",
        "print(\"After removing the element at the index 2: \",list_1)"
      ],
      "metadata": {
        "colab": {
          "base_uri": "https://localhost:8080/"
        },
        "id": "UC7buXi5b5aG",
        "outputId": "422c5810-7401-41ef-ec0c-6f0d4d430f9f"
      },
      "execution_count": 3,
      "outputs": [
        {
          "output_type": "stream",
          "name": "stdout",
          "text": [
            "After removing the element 6 from the list:  [1, 2, 3, 11, 4, 5, 7, 8, 9]\n",
            "Popped element:  4\n",
            "After removing the element at the index 4:  [1, 2, 3, 11, 5, 7, 8, 9]\n",
            "After removing the element at the index 2:  [1, 2, 11, 5, 7, 8, 9]\n"
          ]
        }
      ]
    },
    {
      "cell_type": "code",
      "source": [
        "#modifying the element at a particular index\n",
        "\n",
        "list_1[4] = 12\n",
        "print(\"After modifying the element at the index 4: \",list_1)"
      ],
      "metadata": {
        "colab": {
          "base_uri": "https://localhost:8080/"
        },
        "id": "aHHNAG7mc6_E",
        "outputId": "7dc7c751-6aa8-4488-ce26-19639d731a13"
      },
      "execution_count": 4,
      "outputs": [
        {
          "output_type": "stream",
          "name": "stdout",
          "text": [
            "After modifying the element at the index 4:  [1, 2, 11, 5, 12, 8, 9]\n"
          ]
        }
      ]
    },
    {
      "cell_type": "code",
      "source": [
        "#modifying the elements from index 1 to index 4\n",
        "\n",
        "list_1[1:5] = [20,21,22,23]\n",
        "print(\"After modifying the elements from index 1 to index 4: \",list_1)\n"
      ],
      "metadata": {
        "colab": {
          "base_uri": "https://localhost:8080/"
        },
        "id": "uFkLsVCegdJa",
        "outputId": "ff9f1cee-ee7a-4135-b170-f2f61e7d9b3c"
      },
      "execution_count": 5,
      "outputs": [
        {
          "output_type": "stream",
          "name": "stdout",
          "text": [
            "After modifying the elements from index 1 to index 4:  [1, 20, 21, 22, 23, 8, 9]\n"
          ]
        }
      ]
    },
    {
      "cell_type": "markdown",
      "source": [
        "**Performing basic operations in a dictionary**"
      ],
      "metadata": {
        "id": "d9s6Zvt0g2Mn"
      }
    },
    {
      "cell_type": "code",
      "source": [
        "dictionary = {}\n",
        "\n",
        "#adding key-value pairs to a dictionary\n",
        "\n",
        "dictionary[\"Name\"] = \"John\"\n",
        "dictionary[\"Age\"] = 25\n",
        "dictionary[\"Gender\"] = \"Male\"\n",
        "\n",
        "print(dictionary)"
      ],
      "metadata": {
        "colab": {
          "base_uri": "https://localhost:8080/"
        },
        "id": "0cz20WKehJs_",
        "outputId": "6f0936b1-cd87-4e4c-e949-01fb05301e22"
      },
      "execution_count": 6,
      "outputs": [
        {
          "output_type": "stream",
          "name": "stdout",
          "text": [
            "{'Name': 'John', 'Age': 25, 'Gender': 'Male'}\n"
          ]
        }
      ]
    },
    {
      "cell_type": "code",
      "source": [
        "#adding more items to the dictionary\n",
        "\n",
        "dictionary.update({\"Country\" : \"USA\",\"City\" : \"New York\"})\n",
        "\n",
        "print(dictionary)"
      ],
      "metadata": {
        "colab": {
          "base_uri": "https://localhost:8080/"
        },
        "id": "FlVmeUTgkQzF",
        "outputId": "f3d7ec1e-c660-4ba1-8c6c-517f27d68d6d"
      },
      "execution_count": 7,
      "outputs": [
        {
          "output_type": "stream",
          "name": "stdout",
          "text": [
            "{'Name': 'John', 'Age': 25, 'Gender': 'Male', 'Country': 'USA', 'City': 'New York'}\n"
          ]
        }
      ]
    },
    {
      "cell_type": "code",
      "source": [
        "#removing an item for the dictionary using pop()\n",
        "\n",
        "dictionary.pop(\"Gender\")\n",
        "print(dictionary)"
      ],
      "metadata": {
        "colab": {
          "base_uri": "https://localhost:8080/"
        },
        "id": "euC8WUEwjy2V",
        "outputId": "108f332d-d1c7-4747-de18-7e4b91fd24a9"
      },
      "execution_count": 8,
      "outputs": [
        {
          "output_type": "stream",
          "name": "stdout",
          "text": [
            "{'Name': 'John', 'Age': 25, 'Country': 'USA', 'City': 'New York'}\n"
          ]
        }
      ]
    },
    {
      "cell_type": "code",
      "source": [
        "#removing an item from the dictionary using del()\n",
        "\n",
        "del dictionary[\"Age\"]\n",
        "print(dictionary)"
      ],
      "metadata": {
        "colab": {
          "base_uri": "https://localhost:8080/"
        },
        "id": "g6iaKM5bj_A-",
        "outputId": "6be9e5d1-961b-43ab-c1ac-5e9aed67cf02"
      },
      "execution_count": 9,
      "outputs": [
        {
          "output_type": "stream",
          "name": "stdout",
          "text": [
            "{'Name': 'John', 'Country': 'USA', 'City': 'New York'}\n"
          ]
        }
      ]
    },
    {
      "cell_type": "code",
      "source": [
        "#modifying the items in the dictionary\n",
        "\n",
        "dictionary[\"Name\"] = \"Jane\"\n",
        "print(dictionary)"
      ],
      "metadata": {
        "id": "lfuaVw59kGJO",
        "colab": {
          "base_uri": "https://localhost:8080/"
        },
        "outputId": "41a8b1af-4bd9-4538-beff-5a9863f559d3"
      },
      "execution_count": 10,
      "outputs": [
        {
          "output_type": "stream",
          "name": "stdout",
          "text": [
            "{'Name': 'Jane', 'Country': 'USA', 'City': 'New York'}\n"
          ]
        }
      ]
    },
    {
      "cell_type": "code",
      "source": [
        "#modifying the items using update()\n",
        "\n",
        "dictionary.update({\"Country\" : \"Australia\",\"City\":\"Syndey\"})\n",
        "print(dictionary)"
      ],
      "metadata": {
        "colab": {
          "base_uri": "https://localhost:8080/"
        },
        "id": "8JDN5DvjtYro",
        "outputId": "8df996b0-706f-4827-ba70-b877bc988f36"
      },
      "execution_count": 12,
      "outputs": [
        {
          "output_type": "stream",
          "name": "stdout",
          "text": [
            "{'Name': 'Jane', 'Country': 'Australia', 'City': 'Syndey'}\n"
          ]
        }
      ]
    },
    {
      "cell_type": "markdown",
      "source": [
        "**Performing basic operations in a Set**"
      ],
      "metadata": {
        "id": "Y_K6wum4uJlW"
      }
    },
    {
      "cell_type": "code",
      "source": [
        "set1 = set()\n",
        "\n",
        "#adding elements to a set\n",
        "\n",
        "set1.add(1)\n",
        "set1.add(2)\n",
        "set1.add(3)\n",
        "set1.add(4)\n",
        "set1.add(5)\n",
        "print(set1)"
      ],
      "metadata": {
        "colab": {
          "base_uri": "https://localhost:8080/"
        },
        "id": "HQHI1lPIuGWf",
        "outputId": "5fc81040-3cc5-432b-c23b-2188167ecc1a"
      },
      "execution_count": 18,
      "outputs": [
        {
          "output_type": "stream",
          "name": "stdout",
          "text": [
            "{1, 2, 3, 4, 5}\n"
          ]
        }
      ]
    },
    {
      "cell_type": "code",
      "source": [
        "#removing elements from a set\n",
        "\n",
        "set1.discard(4)\n",
        "print(set1)"
      ],
      "metadata": {
        "colab": {
          "base_uri": "https://localhost:8080/"
        },
        "id": "Jig_JhuWuoXY",
        "outputId": "148e5eec-4281-4bd3-bebd-08bc78d87c6a"
      },
      "execution_count": 20,
      "outputs": [
        {
          "output_type": "stream",
          "name": "stdout",
          "text": [
            "{1, 2, 3, 5}\n"
          ]
        }
      ]
    },
    {
      "cell_type": "code",
      "source": [
        "#removing the first element from the set\n",
        "\n",
        "set1.pop()\n",
        "print(set1)"
      ],
      "metadata": {
        "colab": {
          "base_uri": "https://localhost:8080/"
        },
        "id": "B8uJcPz3uXIj",
        "outputId": "1648fda0-b2db-4900-9c37-d1142d5dc199"
      },
      "execution_count": 22,
      "outputs": [
        {
          "output_type": "stream",
          "name": "stdout",
          "text": [
            "{2, 3, 5}\n"
          ]
        }
      ]
    },
    {
      "cell_type": "code",
      "source": [
        "#removing a specific element in a set\n",
        "\n",
        "set1.remove(5)\n",
        "print(set1)"
      ],
      "metadata": {
        "colab": {
          "base_uri": "https://localhost:8080/"
        },
        "id": "8FzENg1Nu9W8",
        "outputId": "97d76e4c-9fd1-459f-de12-502e1e6e53ae"
      },
      "execution_count": 23,
      "outputs": [
        {
          "output_type": "stream",
          "name": "stdout",
          "text": [
            "{2, 3}\n"
          ]
        }
      ]
    },
    {
      "cell_type": "code",
      "source": [
        "#adding mutliple elements to a set\n",
        "\n",
        "set1.update([4,5,6,7,8])\n",
        "print(set1)"
      ],
      "metadata": {
        "colab": {
          "base_uri": "https://localhost:8080/"
        },
        "id": "yycyjlg7vSyT",
        "outputId": "c3208dd5-c2e8-4769-d7ac-a2d22483dff4"
      },
      "execution_count": 24,
      "outputs": [
        {
          "output_type": "stream",
          "name": "stdout",
          "text": [
            "{2, 3, 4, 5, 6, 7, 8}\n"
          ]
        }
      ]
    },
    {
      "cell_type": "code",
      "source": [
        "#Since set is a unordered collection of data, the data cannot be modified directly.\n",
        "#Instead a particular element can be discarded and the new element can be added.\n",
        "\n",
        "set1.discard(8)\n",
        "set1.add(11)\n",
        "print(set1)"
      ],
      "metadata": {
        "colab": {
          "base_uri": "https://localhost:8080/"
        },
        "id": "caZpbmZdvkF6",
        "outputId": "7d2fbfef-f311-495f-ab64-1144fa4ed800"
      },
      "execution_count": 26,
      "outputs": [
        {
          "output_type": "stream",
          "name": "stdout",
          "text": [
            "{2, 3, 4, 5, 6, 7, 11}\n"
          ]
        }
      ]
    },
    {
      "cell_type": "code",
      "source": [
        "#set can be modified by operations like union, intersection, difference and symmetric difference\n",
        "\n",
        "#union\n",
        "\n",
        "set_1 = {1,2,3,4,5}\n",
        "set_2 = {4,5,6,7,8}\n",
        "\n",
        "union = set_1.union(set_2)\n",
        "print(\"Union of 2 sets: \",union)"
      ],
      "metadata": {
        "colab": {
          "base_uri": "https://localhost:8080/"
        },
        "id": "ss1F0x5lwKjL",
        "outputId": "f8c6bff6-f896-4724-e8ae-bb5ec69046c7"
      },
      "execution_count": 29,
      "outputs": [
        {
          "output_type": "stream",
          "name": "stdout",
          "text": [
            "Union of 2 sets:  {1, 2, 3, 4, 5, 6, 7, 8}\n"
          ]
        }
      ]
    },
    {
      "cell_type": "code",
      "source": [
        "#intersection\n",
        "\n",
        "set_1 = {1,2,3,4,5}\n",
        "set_2 = {4,5,6,7,8}\n",
        "\n",
        "intersection = set_1.intersection(set_2)\n",
        "print(\"Intersection of 2 sets: \",intersection)\n"
      ],
      "metadata": {
        "colab": {
          "base_uri": "https://localhost:8080/"
        },
        "id": "dWRkHTGtwpSu",
        "outputId": "f8969a39-ede4-498e-80ca-59b7ccaef632"
      },
      "execution_count": 30,
      "outputs": [
        {
          "output_type": "stream",
          "name": "stdout",
          "text": [
            "Intersection of 2 sets:  {4, 5}\n"
          ]
        }
      ]
    },
    {
      "cell_type": "code",
      "source": [
        "#difference\n",
        "\n",
        "set_1 = {1,2,3,4,5}\n",
        "set_2 = {4,5,6,7,8}\n",
        "\n",
        "difference = set_1.difference(set_2)\n",
        "print(\"Difference of 2 sets: \",difference)"
      ],
      "metadata": {
        "colab": {
          "base_uri": "https://localhost:8080/"
        },
        "id": "atzMPsPcwwY8",
        "outputId": "ff8405be-0995-4fc1-9a6c-c2fadfdc5519"
      },
      "execution_count": 31,
      "outputs": [
        {
          "output_type": "stream",
          "name": "stdout",
          "text": [
            "Difference of 2 sets:  {1, 2, 3}\n"
          ]
        }
      ]
    },
    {
      "cell_type": "code",
      "source": [
        "#symmetric difference\n",
        "\n",
        "set_1 = {1,2,3,4,5}\n",
        "set_2 = {4,5,6,7,8}\n",
        "\n",
        "symmetric_difference = set_1.symmetric_difference(set_2)\n",
        "print(\"Symmetric difference of 2 sets: \",symmetric_difference)"
      ],
      "metadata": {
        "colab": {
          "base_uri": "https://localhost:8080/"
        },
        "id": "1yIf8BBjwzkZ",
        "outputId": "cf5fb8d4-f6c5-421e-f478-35551f02d556"
      },
      "execution_count": 32,
      "outputs": [
        {
          "output_type": "stream",
          "name": "stdout",
          "text": [
            "Symmetric difference of 2 sets:  {1, 2, 3, 6, 7, 8}\n"
          ]
        }
      ]
    }
  ]
}